{
 "cells": [
  {
   "cell_type": "markdown",
   "id": "d3bfc191-8885-42ee-b0a0-bbab867c6f9f",
   "metadata": {
    "tags": []
   },
   "source": [
    "# Lab | Flow Control"
   ]
  },
  {
   "cell_type": "markdown",
   "id": "3851fcd1-cf98-4653-9c89-e003b7ec9400",
   "metadata": {},
   "source": [
    "## Exercise: Managing Customer Orders Optimized\n",
    "\n",
    "In the last lab, you were starting an online store that sells various products. To ensure smooth operations, you developed a program that manages customer orders and inventory.\n",
    "\n",
    "You did so without using flow control. Let's go a step further and improve this code.\n",
    "\n",
    "Follow the steps below to complete the exercise:\n",
    "\n",
    "1. Look at your code from the lab data structures, and improve repeated code with loops.\n",
    "\n",
    "2. Instead of asking the user to input the name of three products that a customer wants to order, do the following:\n",
    "    \n",
    "    a. Prompt the user to enter the name of a product that a customer wants to order.\n",
    "    \n",
    "    b. Add the product name to the \"customer_orders\" set.\n",
    "    \n",
    "    c. Ask the user if they want to add another product (yes/no).\n",
    "    \n",
    "    d. Continue the loop until the user does not want to add another product.\n",
    "\n",
    "3. Instead of updating the inventory by subtracting 1 from the quantity of each product, only do it for  the products that were ordered (those in \"customer_orders\")."
   ]
  },
  {
   "cell_type": "code",
   "execution_count": 6,
   "id": "78368029",
   "metadata": {},
   "outputs": [
    {
     "name": "stdout",
     "output_type": "stream",
     "text": [
      "{'t-shirt': 4, 'mug': 5, 'hat': 6, 'book': 7, 'keychain': 8}\n",
      "{'book', 'mug', 'hat'}\n",
      "\n",
      "    Order Statistics:\n",
      "    Total Products Ordered: 3\n",
      "    Percentage of Products Ordered: 60.0% \n",
      "    \n",
      "t-shirt: 4\n",
      "mug: 4\n",
      "hat: 5\n",
      "book: 6\n",
      "keychain: 8\n"
     ]
    }
   ],
   "source": [
    "# 1. Look at your code from the lab data structures, and improve repeated code with loops.\n",
    "products = [\"t-shirt\", \"mug\", \"hat\", \"book\", \"keychain\"]\n",
    "\n",
    "inventory = {}\n",
    "\n",
    "for x in products:\n",
    "    cantidad = input(f\"Enter the amount of {x} \")\n",
    "    if cantidad.isdigit():\n",
    "        inventory[x] = int(cantidad)\n",
    "    else:\n",
    "        inventory[x] = 0\n",
    "        print(\"We assume quantity is 0\")\n",
    "print(inventory)\n",
    "\n",
    "customer_orders = set()\n",
    "\n",
    "for x in range(3):\n",
    "    choice = input(\"Select a product\")\n",
    "    while not choice in inventory:\n",
    "        choice = input(\"Select a product that is in the inventory. Please\")\n",
    "    customer_orders.add(choice)\n",
    "\n",
    "print(customer_orders)\n",
    "\n",
    "total_products_ordered = len(customer_orders)\n",
    "percentage_products_ordered  = len(customer_orders) / len(products) * 100\n",
    "\n",
    "order_status = (total_products_ordered, percentage_products_ordered)\n",
    "\n",
    "print(f'''\n",
    "    Order Statistics:\n",
    "    Total Products Ordered: {total_products_ordered}\n",
    "    Percentage of Products Ordered: {percentage_products_ordered }% \n",
    "    ''')\n",
    "\n",
    "for x in customer_orders:\n",
    "    inventory[x] -= 1\n",
    "\n",
    "for x,y in inventory.items():\n",
    "    print(f\"{x}: {y}\")"
   ]
  },
  {
   "cell_type": "code",
   "execution_count": 9,
   "id": "b684a29b",
   "metadata": {},
   "outputs": [
    {
     "name": "stdout",
     "output_type": "stream",
     "text": [
      "{'t-shirt': 11, 'mug': 12, 'hat': 13, 'book': 14, 'keychain': 15}\n"
     ]
    }
   ],
   "source": [
    "products2 = [\"t-shirt\", \"mug\", \"hat\", \"book\", \"keychain\"]\n",
    "\n",
    "inventory2 = {}\n",
    "\n",
    "for x in products2:\n",
    "    cantidad2 = input(f\"Enter the amount of {x} \")\n",
    "    if cantidad2.isdigit():\n",
    "        inventory2[x] = int(cantidad2)\n",
    "    else:\n",
    "        inventory2[x] = 0\n",
    "        print(\"We assume quantity is 0\")\n",
    "print(inventory2)\n",
    "\n",
    "customer_orders2 = set()"
   ]
  },
  {
   "cell_type": "code",
   "execution_count": 10,
   "id": "9145c5d7",
   "metadata": {},
   "outputs": [
    {
     "name": "stdout",
     "output_type": "stream",
     "text": [
      "{'hat'}\n"
     ]
    }
   ],
   "source": [
    "\"\"\"\n",
    "2. Instead of asking the user to input the name of three products that a customer wants to order, do the following:\n",
    "    \n",
    "    a. Prompt the user to enter the name of a product that a customer wants to order.\n",
    "    \n",
    "    b. Add the product name to the \"customer_orders\" set.\n",
    "    \n",
    "    c. Ask the user if they want to add another product (yes/no).\n",
    "    \n",
    "    d. Continue the loop until the user does not want to add another product.\n",
    "\"\"\"\n",
    "def add_product():\n",
    "    choice = input(\"Select a product:\")\n",
    "    while not choice in inventory2:\n",
    "        choice = input(\"Select a product that is in the inventory. Please\")\n",
    "    customer_orders2.add(choice)\n",
    "\n",
    "add_product()\n",
    "while(True):\n",
    "    question = input(\"Do you want to select another product? (Yes/No)\").capitalize() \n",
    "    if question == \"Yes\":\n",
    "        add_product()\n",
    "    else:\n",
    "        break\n",
    "    \n",
    "print(customer_orders2)\n"
   ]
  },
  {
   "cell_type": "code",
   "execution_count": 12,
   "id": "3d0723c7",
   "metadata": {},
   "outputs": [
    {
     "name": "stdout",
     "output_type": "stream",
     "text": [
      "t-shirt: 11\n",
      "mug: 12\n",
      "hat: 12\n",
      "book: 14\n",
      "keychain: 15\n"
     ]
    }
   ],
   "source": [
    "# 3. Instead of updating the inventory by subtracting 1 from the quantity of each product, only do it for  the products that were ordered (those in \"customer_orders\").\n",
    "\n",
    "for x in customer_orders2:\n",
    "    inventory2[x] -= 1\n",
    "\n",
    "for x,y in inventory2.items():\n",
    "    print(f\"{x}: {y}\")"
   ]
  },
  {
   "cell_type": "code",
   "execution_count": null,
   "id": "d9d8f27d",
   "metadata": {},
   "outputs": [],
   "source": []
  }
 ],
 "metadata": {
  "kernelspec": {
   "display_name": "Python 3 (ipykernel)",
   "language": "python",
   "name": "python3"
  },
  "language_info": {
   "codemirror_mode": {
    "name": "ipython",
    "version": 3
   },
   "file_extension": ".py",
   "mimetype": "text/x-python",
   "name": "python",
   "nbconvert_exporter": "python",
   "pygments_lexer": "ipython3",
   "version": "3.11.9"
  }
 },
 "nbformat": 4,
 "nbformat_minor": 5
}
